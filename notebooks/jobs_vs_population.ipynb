{
 "cells": [
  {
   "cell_type": "code",
   "execution_count": 1,
   "metadata": {
    "collapsed": true
   },
   "outputs": [],
   "source": [
    "import pandas as pd\n",
    "import matplotlib.pyplot as plt\n",
    "import seaborn as sns\n",
    "\n",
    "%matplotlib inline"
   ]
  },
  {
   "cell_type": "code",
   "execution_count": 2,
   "metadata": {},
   "outputs": [
    {
     "data": {
      "text/html": [
       "<div>\n",
       "<style scoped>\n",
       "    .dataframe tbody tr th:only-of-type {\n",
       "        vertical-align: middle;\n",
       "    }\n",
       "\n",
       "    .dataframe tbody tr th {\n",
       "        vertical-align: top;\n",
       "    }\n",
       "\n",
       "    .dataframe thead th {\n",
       "        text-align: right;\n",
       "    }\n",
       "</style>\n",
       "<table border=\"1\" class=\"dataframe\">\n",
       "  <thead>\n",
       "    <tr style=\"text-align: right;\">\n",
       "      <th></th>\n",
       "      <th>SUMLEV</th>\n",
       "      <th>REGION</th>\n",
       "      <th>DIVISION</th>\n",
       "      <th>STATE</th>\n",
       "      <th>NAME</th>\n",
       "      <th>CENSUS2010POP</th>\n",
       "      <th>ESTIMATESBASE2010</th>\n",
       "      <th>POPESTIMATE2010</th>\n",
       "      <th>POPESTIMATE2011</th>\n",
       "      <th>POPESTIMATE2012</th>\n",
       "      <th>...</th>\n",
       "      <th>RDOMESTICMIG2017</th>\n",
       "      <th>RDOMESTICMIG2018</th>\n",
       "      <th>RNETMIG2011</th>\n",
       "      <th>RNETMIG2012</th>\n",
       "      <th>RNETMIG2013</th>\n",
       "      <th>RNETMIG2014</th>\n",
       "      <th>RNETMIG2015</th>\n",
       "      <th>RNETMIG2016</th>\n",
       "      <th>RNETMIG2017</th>\n",
       "      <th>RNETMIG2018</th>\n",
       "    </tr>\n",
       "  </thead>\n",
       "  <tbody>\n",
       "    <tr>\n",
       "      <th>0</th>\n",
       "      <td>10</td>\n",
       "      <td>0</td>\n",
       "      <td>0</td>\n",
       "      <td>0</td>\n",
       "      <td>United States</td>\n",
       "      <td>308745538</td>\n",
       "      <td>308758105</td>\n",
       "      <td>309326085</td>\n",
       "      <td>311580009</td>\n",
       "      <td>313874218</td>\n",
       "      <td>...</td>\n",
       "      <td>0.000000</td>\n",
       "      <td>0.000000</td>\n",
       "      <td>2.553948</td>\n",
       "      <td>2.746049</td>\n",
       "      <td>2.701727</td>\n",
       "      <td>2.988276</td>\n",
       "      <td>3.328598</td>\n",
       "      <td>3.321549</td>\n",
       "      <td>2.941086</td>\n",
       "      <td>3.001086</td>\n",
       "    </tr>\n",
       "    <tr>\n",
       "      <th>1</th>\n",
       "      <td>20</td>\n",
       "      <td>1</td>\n",
       "      <td>0</td>\n",
       "      <td>0</td>\n",
       "      <td>Northeast Region</td>\n",
       "      <td>55317240</td>\n",
       "      <td>55318430</td>\n",
       "      <td>55380645</td>\n",
       "      <td>55600532</td>\n",
       "      <td>55776729</td>\n",
       "      <td>...</td>\n",
       "      <td>-5.651919</td>\n",
       "      <td>-5.222289</td>\n",
       "      <td>0.845134</td>\n",
       "      <td>0.040762</td>\n",
       "      <td>-0.397011</td>\n",
       "      <td>-0.923951</td>\n",
       "      <td>-2.011735</td>\n",
       "      <td>-2.430459</td>\n",
       "      <td>-1.801582</td>\n",
       "      <td>-1.127222</td>\n",
       "    </tr>\n",
       "    <tr>\n",
       "      <th>2</th>\n",
       "      <td>20</td>\n",
       "      <td>2</td>\n",
       "      <td>0</td>\n",
       "      <td>0</td>\n",
       "      <td>Midwest Region</td>\n",
       "      <td>66927001</td>\n",
       "      <td>66929743</td>\n",
       "      <td>66974749</td>\n",
       "      <td>67152631</td>\n",
       "      <td>67336937</td>\n",
       "      <td>...</td>\n",
       "      <td>-2.370672</td>\n",
       "      <td>-2.301663</td>\n",
       "      <td>-1.043009</td>\n",
       "      <td>-0.896575</td>\n",
       "      <td>0.042505</td>\n",
       "      <td>-0.715656</td>\n",
       "      <td>-1.357662</td>\n",
       "      <td>-1.226811</td>\n",
       "      <td>-0.519621</td>\n",
       "      <td>-0.431833</td>\n",
       "    </tr>\n",
       "  </tbody>\n",
       "</table>\n",
       "<p>3 rows × 136 columns</p>\n",
       "</div>"
      ],
      "text/plain": [
       "   SUMLEV REGION DIVISION  STATE              NAME  CENSUS2010POP  \\\n",
       "0      10      0        0      0     United States      308745538   \n",
       "1      20      1        0      0  Northeast Region       55317240   \n",
       "2      20      2        0      0    Midwest Region       66927001   \n",
       "\n",
       "   ESTIMATESBASE2010  POPESTIMATE2010  POPESTIMATE2011  POPESTIMATE2012  ...  \\\n",
       "0          308758105        309326085        311580009        313874218  ...   \n",
       "1           55318430         55380645         55600532         55776729  ...   \n",
       "2           66929743         66974749         67152631         67336937  ...   \n",
       "\n",
       "   RDOMESTICMIG2017  RDOMESTICMIG2018  RNETMIG2011  RNETMIG2012  RNETMIG2013  \\\n",
       "0          0.000000          0.000000     2.553948     2.746049     2.701727   \n",
       "1         -5.651919         -5.222289     0.845134     0.040762    -0.397011   \n",
       "2         -2.370672         -2.301663    -1.043009    -0.896575     0.042505   \n",
       "\n",
       "   RNETMIG2014  RNETMIG2015  RNETMIG2016  RNETMIG2017  RNETMIG2018  \n",
       "0     2.988276     3.328598     3.321549     2.941086     3.001086  \n",
       "1    -0.923951    -2.011735    -2.430459    -1.801582    -1.127222  \n",
       "2    -0.715656    -1.357662    -1.226811    -0.519621    -0.431833  \n",
       "\n",
       "[3 rows x 136 columns]"
      ]
     },
     "execution_count": 2,
     "metadata": {},
     "output_type": "execute_result"
    }
   ],
   "source": [
    "pop_est = pd.read_csv('data/nst-est2018-alldata.csv')\n",
    "pop_est.head(3)"
   ]
  },
  {
   "cell_type": "code",
   "execution_count": 3,
   "metadata": {},
   "outputs": [
    {
     "data": {
      "text/plain": [
       "array(['United States', 'Northeast Region', 'Midwest Region',\n",
       "       'South Region', 'West Region', 'Alabama', 'Alaska', 'Arizona',\n",
       "       'Arkansas', 'California', 'Colorado', 'Connecticut', 'Delaware',\n",
       "       'District of Columbia', 'Florida', 'Georgia', 'Hawaii', 'Idaho',\n",
       "       'Illinois', 'Indiana', 'Iowa', 'Kansas', 'Kentucky', 'Louisiana',\n",
       "       'Maine', 'Maryland', 'Massachusetts', 'Michigan', 'Minnesota',\n",
       "       'Mississippi', 'Missouri', 'Montana', 'Nebraska', 'Nevada',\n",
       "       'New Hampshire', 'New Jersey', 'New Mexico', 'New York',\n",
       "       'North Carolina', 'North Dakota', 'Ohio', 'Oklahoma', 'Oregon',\n",
       "       'Pennsylvania', 'Rhode Island', 'South Carolina', 'South Dakota',\n",
       "       'Tennessee', 'Texas', 'Utah', 'Vermont', 'Virginia', 'Washington',\n",
       "       'West Virginia', 'Wisconsin', 'Wyoming', 'Puerto Rico'],\n",
       "      dtype=object)"
      ]
     },
     "execution_count": 3,
     "metadata": {},
     "output_type": "execute_result"
    }
   ],
   "source": [
    "pop_est.NAME.unique()"
   ]
  },
  {
   "cell_type": "code",
   "execution_count": 5,
   "metadata": {},
   "outputs": [],
   "source": [
    "pop_est_tn = pop_est.loc[pop_est.NAME == 'Tennessee']"
   ]
  },
  {
   "cell_type": "code",
   "execution_count": 8,
   "metadata": {},
   "outputs": [
    {
     "data": {
      "text/plain": [
       "(1, 136)"
      ]
     },
     "execution_count": 8,
     "metadata": {},
     "output_type": "execute_result"
    }
   ],
   "source": [
    "pop_est_tn.shape"
   ]
  },
  {
   "cell_type": "code",
   "execution_count": 11,
   "metadata": {},
   "outputs": [
    {
     "data": {
      "text/plain": [
       "array(['SUMLEV', 'REGION', 'DIVISION', 'STATE', 'NAME', 'CENSUS2010POP',\n",
       "       'ESTIMATESBASE2010', 'POPESTIMATE2010', 'POPESTIMATE2011',\n",
       "       'POPESTIMATE2012', 'POPESTIMATE2013', 'POPESTIMATE2014',\n",
       "       'POPESTIMATE2015', 'POPESTIMATE2016', 'POPESTIMATE2017',\n",
       "       'POPESTIMATE2018', 'NPOPCHG_2010', 'NPOPCHG_2011', 'NPOPCHG_2012',\n",
       "       'NPOPCHG_2013', 'NPOPCHG_2014', 'NPOPCHG_2015', 'NPOPCHG_2016',\n",
       "       'NPOPCHG_2017', 'NPOPCHG_2018', 'BIRTHS2010', 'BIRTHS2011',\n",
       "       'BIRTHS2012', 'BIRTHS2013', 'BIRTHS2014', 'BIRTHS2015',\n",
       "       'BIRTHS2016', 'BIRTHS2017', 'BIRTHS2018', 'DEATHS2010',\n",
       "       'DEATHS2011', 'DEATHS2012', 'DEATHS2013', 'DEATHS2014',\n",
       "       'DEATHS2015', 'DEATHS2016', 'DEATHS2017', 'DEATHS2018',\n",
       "       'NATURALINC2010', 'NATURALINC2011', 'NATURALINC2012',\n",
       "       'NATURALINC2013', 'NATURALINC2014', 'NATURALINC2015',\n",
       "       'NATURALINC2016', 'NATURALINC2017', 'NATURALINC2018',\n",
       "       'INTERNATIONALMIG2010', 'INTERNATIONALMIG2011',\n",
       "       'INTERNATIONALMIG2012', 'INTERNATIONALMIG2013',\n",
       "       'INTERNATIONALMIG2014', 'INTERNATIONALMIG2015',\n",
       "       'INTERNATIONALMIG2016', 'INTERNATIONALMIG2017',\n",
       "       'INTERNATIONALMIG2018', 'DOMESTICMIG2010', 'DOMESTICMIG2011',\n",
       "       'DOMESTICMIG2012', 'DOMESTICMIG2013', 'DOMESTICMIG2014',\n",
       "       'DOMESTICMIG2015', 'DOMESTICMIG2016', 'DOMESTICMIG2017',\n",
       "       'DOMESTICMIG2018', 'NETMIG2010', 'NETMIG2011', 'NETMIG2012',\n",
       "       'NETMIG2013', 'NETMIG2014', 'NETMIG2015', 'NETMIG2016',\n",
       "       'NETMIG2017', 'NETMIG2018', 'RESIDUAL2010', 'RESIDUAL2011',\n",
       "       'RESIDUAL2012', 'RESIDUAL2013', 'RESIDUAL2014', 'RESIDUAL2015',\n",
       "       'RESIDUAL2016', 'RESIDUAL2017', 'RESIDUAL2018', 'RBIRTH2011',\n",
       "       'RBIRTH2012', 'RBIRTH2013', 'RBIRTH2014', 'RBIRTH2015',\n",
       "       'RBIRTH2016', 'RBIRTH2017', 'RBIRTH2018', 'RDEATH2011',\n",
       "       'RDEATH2012', 'RDEATH2013', 'RDEATH2014', 'RDEATH2015',\n",
       "       'RDEATH2016', 'RDEATH2017', 'RDEATH2018', 'RNATURALINC2011',\n",
       "       'RNATURALINC2012', 'RNATURALINC2013', 'RNATURALINC2014',\n",
       "       'RNATURALINC2015', 'RNATURALINC2016', 'RNATURALINC2017',\n",
       "       'RNATURALINC2018', 'RINTERNATIONALMIG2011',\n",
       "       'RINTERNATIONALMIG2012', 'RINTERNATIONALMIG2013',\n",
       "       'RINTERNATIONALMIG2014', 'RINTERNATIONALMIG2015',\n",
       "       'RINTERNATIONALMIG2016', 'RINTERNATIONALMIG2017',\n",
       "       'RINTERNATIONALMIG2018', 'RDOMESTICMIG2011', 'RDOMESTICMIG2012',\n",
       "       'RDOMESTICMIG2013', 'RDOMESTICMIG2014', 'RDOMESTICMIG2015',\n",
       "       'RDOMESTICMIG2016', 'RDOMESTICMIG2017', 'RDOMESTICMIG2018',\n",
       "       'RNETMIG2011', 'RNETMIG2012', 'RNETMIG2013', 'RNETMIG2014',\n",
       "       'RNETMIG2015', 'RNETMIG2016', 'RNETMIG2017', 'RNETMIG2018'],\n",
       "      dtype=object)"
      ]
     },
     "execution_count": 11,
     "metadata": {},
     "output_type": "execute_result"
    }
   ],
   "source": [
    "pop_est_tn.columns.values"
   ]
  },
  {
   "cell_type": "code",
   "execution_count": 12,
   "metadata": {},
   "outputs": [
    {
     "data": {
      "text/html": [
       "<div>\n",
       "<style scoped>\n",
       "    .dataframe tbody tr th:only-of-type {\n",
       "        vertical-align: middle;\n",
       "    }\n",
       "\n",
       "    .dataframe tbody tr th {\n",
       "        vertical-align: top;\n",
       "    }\n",
       "\n",
       "    .dataframe thead th {\n",
       "        text-align: right;\n",
       "    }\n",
       "</style>\n",
       "<table border=\"1\" class=\"dataframe\">\n",
       "  <thead>\n",
       "    <tr style=\"text-align: right;\">\n",
       "      <th></th>\n",
       "      <th>POPESTIMATE2010</th>\n",
       "      <th>POPESTIMATE2011</th>\n",
       "      <th>POPESTIMATE2012</th>\n",
       "      <th>POPESTIMATE2013</th>\n",
       "      <th>POPESTIMATE2014</th>\n",
       "      <th>POPESTIMATE2015</th>\n",
       "      <th>POPESTIMATE2016</th>\n",
       "      <th>POPESTIMATE2017</th>\n",
       "      <th>POPESTIMATE2018</th>\n",
       "    </tr>\n",
       "  </thead>\n",
       "  <tbody>\n",
       "    <tr>\n",
       "      <th>47</th>\n",
       "      <td>6355301</td>\n",
       "      <td>6397410</td>\n",
       "      <td>6451281</td>\n",
       "      <td>6493432</td>\n",
       "      <td>6540826</td>\n",
       "      <td>6590808</td>\n",
       "      <td>6645011</td>\n",
       "      <td>6708794</td>\n",
       "      <td>6770010</td>\n",
       "    </tr>\n",
       "  </tbody>\n",
       "</table>\n",
       "</div>"
      ],
      "text/plain": [
       "    POPESTIMATE2010  POPESTIMATE2011  POPESTIMATE2012  POPESTIMATE2013  \\\n",
       "47          6355301          6397410          6451281          6493432   \n",
       "\n",
       "    POPESTIMATE2014  POPESTIMATE2015  POPESTIMATE2016  POPESTIMATE2017  \\\n",
       "47          6540826          6590808          6645011          6708794   \n",
       "\n",
       "    POPESTIMATE2018  \n",
       "47          6770010  "
      ]
     },
     "execution_count": 12,
     "metadata": {},
     "output_type": "execute_result"
    }
   ],
   "source": [
    "pop_est_tn = pop_est_tn[['POPESTIMATE2010', 'POPESTIMATE2011', 'POPESTIMATE2012',\n",
    "                        'POPESTIMATE2013', 'POPESTIMATE2014', 'POPESTIMATE2015',\n",
    "                        'POPESTIMATE2016', 'POPESTIMATE2017', 'POPESTIMATE2018']]\n",
    "pop_est_tn"
   ]
  },
  {
   "cell_type": "code",
   "execution_count": 39,
   "metadata": {},
   "outputs": [
    {
     "data": {
      "text/html": [
       "<div>\n",
       "<style scoped>\n",
       "    .dataframe tbody tr th:only-of-type {\n",
       "        vertical-align: middle;\n",
       "    }\n",
       "\n",
       "    .dataframe tbody tr th {\n",
       "        vertical-align: top;\n",
       "    }\n",
       "\n",
       "    .dataframe thead th {\n",
       "        text-align: right;\n",
       "    }\n",
       "</style>\n",
       "<table border=\"1\" class=\"dataframe\">\n",
       "  <thead>\n",
       "    <tr style=\"text-align: right;\">\n",
       "      <th></th>\n",
       "      <th>seasonal</th>\n",
       "      <th>year</th>\n",
       "      <th>super</th>\n",
       "      <th>month</th>\n",
       "      <th>United States</th>\n",
       "      <th>Alabama</th>\n",
       "      <th>Alaska</th>\n",
       "      <th>Arizona</th>\n",
       "      <th>Arkansas</th>\n",
       "      <th>California</th>\n",
       "      <th>...</th>\n",
       "      <th>Tennessee</th>\n",
       "      <th>Texas</th>\n",
       "      <th>Utah</th>\n",
       "      <th>Vermont</th>\n",
       "      <th>Virginia</th>\n",
       "      <th>Washington</th>\n",
       "      <th>West Virginia</th>\n",
       "      <th>Wisconsin</th>\n",
       "      <th>Wyoming</th>\n",
       "      <th>Unnamed: 56</th>\n",
       "    </tr>\n",
       "  </thead>\n",
       "  <tbody>\n",
       "    <tr>\n",
       "      <th>0</th>\n",
       "      <td>S</td>\n",
       "      <td>1990</td>\n",
       "      <td>Total Nonfarm</td>\n",
       "      <td>January</td>\n",
       "      <td>109197.0</td>\n",
       "      <td>1636.8</td>\n",
       "      <td>230.8</td>\n",
       "      <td>1473.4</td>\n",
       "      <td>912.5</td>\n",
       "      <td>12495.2</td>\n",
       "      <td>...</td>\n",
       "      <td>2191.7</td>\n",
       "      <td>7028.6</td>\n",
       "      <td>712.5</td>\n",
       "      <td>261.5</td>\n",
       "      <td>2901.5</td>\n",
       "      <td>2122.2</td>\n",
       "      <td>606.9</td>\n",
       "      <td>2268.7</td>\n",
       "      <td>195.7</td>\n",
       "      <td>NaN</td>\n",
       "    </tr>\n",
       "    <tr>\n",
       "      <th>1</th>\n",
       "      <td>S</td>\n",
       "      <td>1990</td>\n",
       "      <td>Total Nonfarm</td>\n",
       "      <td>February</td>\n",
       "      <td>109435.0</td>\n",
       "      <td>1634.9</td>\n",
       "      <td>233.0</td>\n",
       "      <td>1475.8</td>\n",
       "      <td>912.3</td>\n",
       "      <td>12500.7</td>\n",
       "      <td>...</td>\n",
       "      <td>2195.1</td>\n",
       "      <td>7038.5</td>\n",
       "      <td>712.8</td>\n",
       "      <td>260.1</td>\n",
       "      <td>2907.6</td>\n",
       "      <td>2126.1</td>\n",
       "      <td>607.4</td>\n",
       "      <td>2278.7</td>\n",
       "      <td>196.3</td>\n",
       "      <td>NaN</td>\n",
       "    </tr>\n",
       "    <tr>\n",
       "      <th>2</th>\n",
       "      <td>S</td>\n",
       "      <td>1990</td>\n",
       "      <td>Total Nonfarm</td>\n",
       "      <td>March</td>\n",
       "      <td>109644.0</td>\n",
       "      <td>1633.0</td>\n",
       "      <td>235.4</td>\n",
       "      <td>1478.5</td>\n",
       "      <td>915.6</td>\n",
       "      <td>12503.6</td>\n",
       "      <td>...</td>\n",
       "      <td>2199.4</td>\n",
       "      <td>7057.6</td>\n",
       "      <td>715.6</td>\n",
       "      <td>259.9</td>\n",
       "      <td>2911.3</td>\n",
       "      <td>2131.1</td>\n",
       "      <td>611.9</td>\n",
       "      <td>2280.6</td>\n",
       "      <td>197.5</td>\n",
       "      <td>NaN</td>\n",
       "    </tr>\n",
       "  </tbody>\n",
       "</table>\n",
       "<p>3 rows × 57 columns</p>\n",
       "</div>"
      ],
      "text/plain": [
       "  seasonal  year          super     month  United States  Alabama  Alaska  \\\n",
       "0        S  1990  Total Nonfarm   January       109197.0   1636.8   230.8   \n",
       "1        S  1990  Total Nonfarm  February       109435.0   1634.9   233.0   \n",
       "2        S  1990  Total Nonfarm     March       109644.0   1633.0   235.4   \n",
       "\n",
       "   Arizona  Arkansas  California  ...  Tennessee   Texas   Utah  Vermont  \\\n",
       "0   1473.4     912.5     12495.2  ...     2191.7  7028.6  712.5    261.5   \n",
       "1   1475.8     912.3     12500.7  ...     2195.1  7038.5  712.8    260.1   \n",
       "2   1478.5     915.6     12503.6  ...     2199.4  7057.6  715.6    259.9   \n",
       "\n",
       "   Virginia  Washington  West Virginia  Wisconsin  Wyoming  Unnamed: 56  \n",
       "0    2901.5      2122.2          606.9     2268.7    195.7          NaN  \n",
       "1    2907.6      2126.1          607.4     2278.7    196.3          NaN  \n",
       "2    2911.3      2131.1          611.9     2280.6    197.5          NaN  \n",
       "\n",
       "[3 rows x 57 columns]"
      ]
     },
     "execution_count": 39,
     "metadata": {},
     "output_type": "execute_result"
    }
   ],
   "source": [
    "jobs = pd.read_excel('data/SWXX 2019--jobs.xlsm', 'Jobs', na_values = '*')\n",
    "jobs.head(3)"
   ]
  },
  {
   "cell_type": "code",
   "execution_count": 40,
   "metadata": {},
   "outputs": [
    {
     "data": {
      "text/html": [
       "<div>\n",
       "<style scoped>\n",
       "    .dataframe tbody tr th:only-of-type {\n",
       "        vertical-align: middle;\n",
       "    }\n",
       "\n",
       "    .dataframe tbody tr th {\n",
       "        vertical-align: top;\n",
       "    }\n",
       "\n",
       "    .dataframe thead th {\n",
       "        text-align: right;\n",
       "    }\n",
       "</style>\n",
       "<table border=\"1\" class=\"dataframe\">\n",
       "  <thead>\n",
       "    <tr style=\"text-align: right;\">\n",
       "      <th></th>\n",
       "      <th>seasonal</th>\n",
       "      <th>year</th>\n",
       "      <th>super</th>\n",
       "      <th>month</th>\n",
       "      <th>Tennessee</th>\n",
       "    </tr>\n",
       "  </thead>\n",
       "  <tbody>\n",
       "    <tr>\n",
       "      <th>0</th>\n",
       "      <td>S</td>\n",
       "      <td>1990</td>\n",
       "      <td>Total Nonfarm</td>\n",
       "      <td>January</td>\n",
       "      <td>2191.7</td>\n",
       "    </tr>\n",
       "    <tr>\n",
       "      <th>1</th>\n",
       "      <td>S</td>\n",
       "      <td>1990</td>\n",
       "      <td>Total Nonfarm</td>\n",
       "      <td>February</td>\n",
       "      <td>2195.1</td>\n",
       "    </tr>\n",
       "    <tr>\n",
       "      <th>2</th>\n",
       "      <td>S</td>\n",
       "      <td>1990</td>\n",
       "      <td>Total Nonfarm</td>\n",
       "      <td>March</td>\n",
       "      <td>2199.4</td>\n",
       "    </tr>\n",
       "  </tbody>\n",
       "</table>\n",
       "</div>"
      ],
      "text/plain": [
       "  seasonal  year          super     month  Tennessee\n",
       "0        S  1990  Total Nonfarm   January     2191.7\n",
       "1        S  1990  Total Nonfarm  February     2195.1\n",
       "2        S  1990  Total Nonfarm     March     2199.4"
      ]
     },
     "execution_count": 40,
     "metadata": {},
     "output_type": "execute_result"
    }
   ],
   "source": [
    "tn_jobs = jobs[['seasonal', 'year', 'super', 'month', 'Tennessee']]\n",
    "tn_jobs.head(3)"
   ]
  },
  {
   "cell_type": "code",
   "execution_count": 41,
   "metadata": {},
   "outputs": [
    {
     "data": {
      "text/plain": [
       "array([1990, 1991, 1992, 1993, 1994, 1995, 1996, 1997, 1998, 1999, 2000,\n",
       "       2001, 2002, 2003, 2004, 2005, 2006, 2007, 2008, 2009, 2010, 2011,\n",
       "       2012, 2013, 2014, 2015, 2016, 2017, 2018, 2019])"
      ]
     },
     "execution_count": 41,
     "metadata": {},
     "output_type": "execute_result"
    }
   ],
   "source": [
    "tn_jobs.year.unique()"
   ]
  },
  {
   "cell_type": "code",
   "execution_count": 42,
   "metadata": {},
   "outputs": [
    {
     "name": "stdout",
     "output_type": "stream",
     "text": [
      "<class 'pandas.core.frame.DataFrame'>\n",
      "RangeIndex: 16380 entries, 0 to 16379\n",
      "Data columns (total 5 columns):\n",
      "seasonal     16380 non-null object\n",
      "year         16380 non-null int64\n",
      "super        16380 non-null object\n",
      "month        16380 non-null object\n",
      "Tennessee    15267 non-null float64\n",
      "dtypes: float64(1), int64(1), object(3)\n",
      "memory usage: 639.9+ KB\n"
     ]
    }
   ],
   "source": [
    "tn_jobs.info()"
   ]
  },
  {
   "cell_type": "code",
   "execution_count": 43,
   "metadata": {},
   "outputs": [
    {
     "data": {
      "text/plain": [
       "(4914, 5)"
      ]
     },
     "execution_count": 43,
     "metadata": {},
     "output_type": "execute_result"
    }
   ],
   "source": [
    "tn_jobs = tn_jobs.loc[tn_jobs.year.isin(['2010', '2011', '2012', '2013',\n",
    "                                        '2014', '2015', '2016', '2017', \n",
    "                                         '2018'])]\n",
    "tn_jobs.shape"
   ]
  },
  {
   "cell_type": "code",
   "execution_count": 44,
   "metadata": {},
   "outputs": [
    {
     "data": {
      "text/plain": [
       "array(['Total Nonfarm', 'Total Private', 'Natural Resources and Mining',\n",
       "       'Construction & Mining', 'Construction', 'Manufacturing',\n",
       "       'Manuf Durable Goods', 'Manuf Non Durable Goods',\n",
       "       'Trade Transportation and Utilities', 'Wholesale Trade',\n",
       "       'Retail Trade', 'Transportation and Utilities', 'Information',\n",
       "       'Financial Activities', 'Professional and Business Services',\n",
       "       'Education and Health Services', 'Leisure and Hospitality',\n",
       "       'Other Services', 'Government', 'State Gov', 'Local Gov'],\n",
       "      dtype=object)"
      ]
     },
     "execution_count": 44,
     "metadata": {},
     "output_type": "execute_result"
    }
   ],
   "source": [
    "tn_jobs.super.unique()"
   ]
  },
  {
   "cell_type": "code",
   "execution_count": 45,
   "metadata": {},
   "outputs": [
    {
     "data": {
      "text/plain": [
       "(234, 5)"
      ]
     },
     "execution_count": 45,
     "metadata": {},
     "output_type": "execute_result"
    }
   ],
   "source": [
    "tn_nonfarm = tn_jobs.loc[tn_jobs.super == 'Total Nonfarm']\n",
    "tn_nonfarm.shape"
   ]
  },
  {
   "cell_type": "code",
   "execution_count": 46,
   "metadata": {},
   "outputs": [
    {
     "name": "stderr",
     "output_type": "stream",
     "text": [
      "/anaconda3/lib/python3.6/site-packages/ipykernel_launcher.py:1: SettingWithCopyWarning: \n",
      "A value is trying to be set on a copy of a slice from a DataFrame.\n",
      "Try using .loc[row_indexer,col_indexer] = value instead\n",
      "\n",
      "See the caveats in the documentation: http://pandas.pydata.org/pandas-docs/stable/indexing.html#indexing-view-versus-copy\n",
      "  \"\"\"Entry point for launching an IPython kernel.\n"
     ]
    },
    {
     "data": {
      "text/html": [
       "<div>\n",
       "<style scoped>\n",
       "    .dataframe tbody tr th:only-of-type {\n",
       "        vertical-align: middle;\n",
       "    }\n",
       "\n",
       "    .dataframe tbody tr th {\n",
       "        vertical-align: top;\n",
       "    }\n",
       "\n",
       "    .dataframe thead th {\n",
       "        text-align: right;\n",
       "    }\n",
       "</style>\n",
       "<table border=\"1\" class=\"dataframe\">\n",
       "  <thead>\n",
       "    <tr style=\"text-align: right;\">\n",
       "      <th></th>\n",
       "      <th>seasonal</th>\n",
       "      <th>year</th>\n",
       "      <th>super</th>\n",
       "      <th>month</th>\n",
       "      <th>Tennessee</th>\n",
       "      <th>month_year</th>\n",
       "    </tr>\n",
       "  </thead>\n",
       "  <tbody>\n",
       "    <tr>\n",
       "      <th>260</th>\n",
       "      <td>S</td>\n",
       "      <td>2010</td>\n",
       "      <td>Total Nonfarm</td>\n",
       "      <td>January</td>\n",
       "      <td>2596.7</td>\n",
       "      <td>Jan-2010</td>\n",
       "    </tr>\n",
       "    <tr>\n",
       "      <th>261</th>\n",
       "      <td>S</td>\n",
       "      <td>2010</td>\n",
       "      <td>Total Nonfarm</td>\n",
       "      <td>February</td>\n",
       "      <td>2592.7</td>\n",
       "      <td>Feb-2010</td>\n",
       "    </tr>\n",
       "    <tr>\n",
       "      <th>262</th>\n",
       "      <td>S</td>\n",
       "      <td>2010</td>\n",
       "      <td>Total Nonfarm</td>\n",
       "      <td>March</td>\n",
       "      <td>2596.2</td>\n",
       "      <td>Mar-2010</td>\n",
       "    </tr>\n",
       "  </tbody>\n",
       "</table>\n",
       "</div>"
      ],
      "text/plain": [
       "    seasonal  year          super     month  Tennessee month_year\n",
       "260        S  2010  Total Nonfarm   January     2596.7   Jan-2010\n",
       "261        S  2010  Total Nonfarm  February     2592.7   Feb-2010\n",
       "262        S  2010  Total Nonfarm     March     2596.2   Mar-2010"
      ]
     },
     "execution_count": 46,
     "metadata": {},
     "output_type": "execute_result"
    }
   ],
   "source": [
    "tn_nonfarm['month_year'] = tn_nonfarm.month.str[0:3] + '-' + tn_nonfarm.year.astype(str)\n",
    "tn_nonfarm.head(3)"
   ]
  },
  {
   "cell_type": "code",
   "execution_count": 47,
   "metadata": {
    "collapsed": true
   },
   "outputs": [],
   "source": [
    "tn_nonfarm = tn_nonfarm.rename(columns = {'Tennessee': 'job_count'})"
   ]
  },
  {
   "cell_type": "code",
   "execution_count": 49,
   "metadata": {},
   "outputs": [],
   "source": [
    "tn_nonfarm.job_count = tn_nonfarm.job_count.astype(float)"
   ]
  },
  {
   "cell_type": "code",
   "execution_count": 62,
   "metadata": {},
   "outputs": [],
   "source": [
    "tn_nonfarm = tn_nonfarm.loc[tn_nonfarm.month != 'Annual']"
   ]
  },
  {
   "cell_type": "code",
   "execution_count": 63,
   "metadata": {},
   "outputs": [
    {
     "data": {
      "image/png": "[encoded data removed]",
      "text/plain": [
       "<Figure size 1080x576 with 1 Axes>"
      ]
     },
     "metadata": {},
     "output_type": "display_data"
    }
   ],
   "source": [
    "plt.figure(figsize = (15, 8))\n",
    "plt.plot('month_year', 'job_count', data = tn_nonfarm)\n",
    "plt.xticks(rotation = 35);"
   ]
  },
  {
   "cell_type": "code",
   "execution_count": 66,
   "metadata": {},
   "outputs": [
    {
     "data": {
      "text/html": [
       "<div>\n",
       "<style scoped>\n",
       "    .dataframe tbody tr th:only-of-type {\n",
       "        vertical-align: middle;\n",
       "    }\n",
       "\n",
       "    .dataframe tbody tr th {\n",
       "        vertical-align: top;\n",
       "    }\n",
       "\n",
       "    .dataframe thead th {\n",
       "        text-align: right;\n",
       "    }\n",
       "</style>\n",
       "<table border=\"1\" class=\"dataframe\">\n",
       "  <thead>\n",
       "    <tr style=\"text-align: right;\">\n",
       "      <th></th>\n",
       "      <th>seasonal</th>\n",
       "      <th>year</th>\n",
       "      <th>super</th>\n",
       "      <th>month</th>\n",
       "      <th>job_count</th>\n",
       "      <th>month_year</th>\n",
       "    </tr>\n",
       "  </thead>\n",
       "  <tbody>\n",
       "    <tr>\n",
       "      <th>260</th>\n",
       "      <td>S</td>\n",
       "      <td>2010</td>\n",
       "      <td>Total Nonfarm</td>\n",
       "      <td>January</td>\n",
       "      <td>2596.7</td>\n",
       "      <td>Jan-2010</td>\n",
       "    </tr>\n",
       "    <tr>\n",
       "      <th>261</th>\n",
       "      <td>S</td>\n",
       "      <td>2010</td>\n",
       "      <td>Total Nonfarm</td>\n",
       "      <td>February</td>\n",
       "      <td>2592.7</td>\n",
       "      <td>Feb-2010</td>\n",
       "    </tr>\n",
       "    <tr>\n",
       "      <th>262</th>\n",
       "      <td>S</td>\n",
       "      <td>2010</td>\n",
       "      <td>Total Nonfarm</td>\n",
       "      <td>March</td>\n",
       "      <td>2596.2</td>\n",
       "      <td>Mar-2010</td>\n",
       "    </tr>\n",
       "    <tr>\n",
       "      <th>263</th>\n",
       "      <td>S</td>\n",
       "      <td>2010</td>\n",
       "      <td>Total Nonfarm</td>\n",
       "      <td>April</td>\n",
       "      <td>2608.7</td>\n",
       "      <td>Apr-2010</td>\n",
       "    </tr>\n",
       "    <tr>\n",
       "      <th>264</th>\n",
       "      <td>S</td>\n",
       "      <td>2010</td>\n",
       "      <td>Total Nonfarm</td>\n",
       "      <td>May</td>\n",
       "      <td>2626.9</td>\n",
       "      <td>May-2010</td>\n",
       "    </tr>\n",
       "    <tr>\n",
       "      <th>265</th>\n",
       "      <td>S</td>\n",
       "      <td>2010</td>\n",
       "      <td>Total Nonfarm</td>\n",
       "      <td>June</td>\n",
       "      <td>2619.4</td>\n",
       "      <td>Jun-2010</td>\n",
       "    </tr>\n",
       "    <tr>\n",
       "      <th>266</th>\n",
       "      <td>S</td>\n",
       "      <td>2010</td>\n",
       "      <td>Total Nonfarm</td>\n",
       "      <td>July</td>\n",
       "      <td>2621.5</td>\n",
       "      <td>Jul-2010</td>\n",
       "    </tr>\n",
       "    <tr>\n",
       "      <th>267</th>\n",
       "      <td>S</td>\n",
       "      <td>2010</td>\n",
       "      <td>Total Nonfarm</td>\n",
       "      <td>August</td>\n",
       "      <td>2619.1</td>\n",
       "      <td>Aug-2010</td>\n",
       "    </tr>\n",
       "    <tr>\n",
       "      <th>268</th>\n",
       "      <td>S</td>\n",
       "      <td>2010</td>\n",
       "      <td>Total Nonfarm</td>\n",
       "      <td>September</td>\n",
       "      <td>2619.6</td>\n",
       "      <td>Sep-2010</td>\n",
       "    </tr>\n",
       "    <tr>\n",
       "      <th>269</th>\n",
       "      <td>S</td>\n",
       "      <td>2010</td>\n",
       "      <td>Total Nonfarm</td>\n",
       "      <td>October</td>\n",
       "      <td>2627.2</td>\n",
       "      <td>Oct-2010</td>\n",
       "    </tr>\n",
       "    <tr>\n",
       "      <th>270</th>\n",
       "      <td>S</td>\n",
       "      <td>2010</td>\n",
       "      <td>Total Nonfarm</td>\n",
       "      <td>November</td>\n",
       "      <td>2625.2</td>\n",
       "      <td>Nov-2010</td>\n",
       "    </tr>\n",
       "    <tr>\n",
       "      <th>271</th>\n",
       "      <td>S</td>\n",
       "      <td>2010</td>\n",
       "      <td>Total Nonfarm</td>\n",
       "      <td>December</td>\n",
       "      <td>2626.1</td>\n",
       "      <td>Dec-2010</td>\n",
       "    </tr>\n",
       "    <tr>\n",
       "      <th>273</th>\n",
       "      <td>S</td>\n",
       "      <td>2011</td>\n",
       "      <td>Total Nonfarm</td>\n",
       "      <td>January</td>\n",
       "      <td>2630.3</td>\n",
       "      <td>Jan-2011</td>\n",
       "    </tr>\n",
       "    <tr>\n",
       "      <th>274</th>\n",
       "      <td>S</td>\n",
       "      <td>2011</td>\n",
       "      <td>Total Nonfarm</td>\n",
       "      <td>February</td>\n",
       "      <td>2639.4</td>\n",
       "      <td>Feb-2011</td>\n",
       "    </tr>\n",
       "    <tr>\n",
       "      <th>275</th>\n",
       "      <td>S</td>\n",
       "      <td>2011</td>\n",
       "      <td>Total Nonfarm</td>\n",
       "      <td>March</td>\n",
       "      <td>2643.1</td>\n",
       "      <td>Mar-2011</td>\n",
       "    </tr>\n",
       "    <tr>\n",
       "      <th>276</th>\n",
       "      <td>S</td>\n",
       "      <td>2011</td>\n",
       "      <td>Total Nonfarm</td>\n",
       "      <td>April</td>\n",
       "      <td>2653.0</td>\n",
       "      <td>Apr-2011</td>\n",
       "    </tr>\n",
       "    <tr>\n",
       "      <th>277</th>\n",
       "      <td>S</td>\n",
       "      <td>2011</td>\n",
       "      <td>Total Nonfarm</td>\n",
       "      <td>May</td>\n",
       "      <td>2657.5</td>\n",
       "      <td>May-2011</td>\n",
       "    </tr>\n",
       "    <tr>\n",
       "      <th>278</th>\n",
       "      <td>S</td>\n",
       "      <td>2011</td>\n",
       "      <td>Total Nonfarm</td>\n",
       "      <td>June</td>\n",
       "      <td>2656.1</td>\n",
       "      <td>Jun-2011</td>\n",
       "    </tr>\n",
       "    <tr>\n",
       "      <th>279</th>\n",
       "      <td>S</td>\n",
       "      <td>2011</td>\n",
       "      <td>Total Nonfarm</td>\n",
       "      <td>July</td>\n",
       "      <td>2667.6</td>\n",
       "      <td>Jul-2011</td>\n",
       "    </tr>\n",
       "    <tr>\n",
       "      <th>280</th>\n",
       "      <td>S</td>\n",
       "      <td>2011</td>\n",
       "      <td>Total Nonfarm</td>\n",
       "      <td>August</td>\n",
       "      <td>2672.3</td>\n",
       "      <td>Aug-2011</td>\n",
       "    </tr>\n",
       "  </tbody>\n",
       "</table>\n",
       "</div>"
      ],
      "text/plain": [
       "    seasonal  year          super      month  job_count month_year\n",
       "260        S  2010  Total Nonfarm    January     2596.7   Jan-2010\n",
       "261        S  2010  Total Nonfarm   February     2592.7   Feb-2010\n",
       "262        S  2010  Total Nonfarm      March     2596.2   Mar-2010\n",
       "263        S  2010  Total Nonfarm      April     2608.7   Apr-2010\n",
       "264        S  2010  Total Nonfarm        May     2626.9   May-2010\n",
       "265        S  2010  Total Nonfarm       June     2619.4   Jun-2010\n",
       "266        S  2010  Total Nonfarm       July     2621.5   Jul-2010\n",
       "267        S  2010  Total Nonfarm     August     2619.1   Aug-2010\n",
       "268        S  2010  Total Nonfarm  September     2619.6   Sep-2010\n",
       "269        S  2010  Total Nonfarm    October     2627.2   Oct-2010\n",
       "270        S  2010  Total Nonfarm   November     2625.2   Nov-2010\n",
       "271        S  2010  Total Nonfarm   December     2626.1   Dec-2010\n",
       "273        S  2011  Total Nonfarm    January     2630.3   Jan-2011\n",
       "274        S  2011  Total Nonfarm   February     2639.4   Feb-2011\n",
       "275        S  2011  Total Nonfarm      March     2643.1   Mar-2011\n",
       "276        S  2011  Total Nonfarm      April     2653.0   Apr-2011\n",
       "277        S  2011  Total Nonfarm        May     2657.5   May-2011\n",
       "278        S  2011  Total Nonfarm       June     2656.1   Jun-2011\n",
       "279        S  2011  Total Nonfarm       July     2667.6   Jul-2011\n",
       "280        S  2011  Total Nonfarm     August     2672.3   Aug-2011"
      ]
     },
     "execution_count": 66,
     "metadata": {},
     "output_type": "execute_result"
    }
   ],
   "source": [
    "tn_nonfarm.head(20)"
   ]
  },
  {
   "cell_type": "code",
   "execution_count": null,
   "metadata": {
    "collapsed": true
   },
   "outputs": [],
   "source": []
  }
 ],
 "metadata": {
  "kernelspec": {
   "display_name": "Python 3",
   "language": "python",
   "name": "python3"
  },
  "language_info": {
   "codemirror_mode": {
    "name": "ipython",
    "version": 3
   },
   "file_extension": ".py",
   "mimetype": "text/x-python",
   "name": "python",
   "nbconvert_exporter": "python",
   "pygments_lexer": "ipython3",
   "version": "3.6.7"
  }
 },
 "nbformat": 4,
 "nbformat_minor": 2
}
