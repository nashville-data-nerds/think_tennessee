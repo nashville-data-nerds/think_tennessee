{
 "cells": [
  {
   "cell_type": "code",
   "execution_count": 1,
   "metadata": {
    "collapsed": true
   },
   "outputs": [],
   "source": [
    "import numpy as np\n",
    "import pandas as pd\n",
    "import matplotlib.pyplot as plt\n",
    "import seaborn as sns\n",
    "\n",
    "%matplotlib inline"
   ]
  },
  {
   "cell_type": "code",
   "execution_count": 2,
   "metadata": {},
   "outputs": [
    {
     "name": "stdout",
     "output_type": "stream",
     "text": [
      "(46, 31)\n"
     ]
    },
    {
     "data": {
      "text/html": [
       "<div>\n",
       "<style scoped>\n",
       "    .dataframe tbody tr th:only-of-type {\n",
       "        vertical-align: middle;\n",
       "    }\n",
       "\n",
       "    .dataframe tbody tr th {\n",
       "        vertical-align: top;\n",
       "    }\n",
       "\n",
       "    .dataframe thead th {\n",
       "        text-align: right;\n",
       "    }\n",
       "</style>\n",
       "<table border=\"1\" class=\"dataframe\">\n",
       "  <thead>\n",
       "    <tr style=\"text-align: right;\">\n",
       "      <th></th>\n",
       "      <th>Date</th>\n",
       "      <th>Median</th>\n",
       "      <th>Average</th>\n",
       "      <th>Men Median</th>\n",
       "      <th>Men Average</th>\n",
       "      <th>Women Median</th>\n",
       "      <th>Women Average</th>\n",
       "      <th>White Median</th>\n",
       "      <th>White Average</th>\n",
       "      <th>Black Median</th>\n",
       "      <th>...</th>\n",
       "      <th>Black Women Median</th>\n",
       "      <th>Black Women Average</th>\n",
       "      <th>Hispanic Women Median</th>\n",
       "      <th>Hispanic Women Average</th>\n",
       "      <th>Recent high-school graduate</th>\n",
       "      <th>Men Recent high-school graduate</th>\n",
       "      <th>Women Recent high-school graduate</th>\n",
       "      <th>Recent college graduate</th>\n",
       "      <th>Men Recent college graduate</th>\n",
       "      <th>Women Recent college graduate</th>\n",
       "    </tr>\n",
       "  </thead>\n",
       "  <tbody>\n",
       "    <tr>\n",
       "      <th>0</th>\n",
       "      <td>2018</td>\n",
       "      <td>$18.80</td>\n",
       "      <td>$25.60</td>\n",
       "      <td>$20.10</td>\n",
       "      <td>$28.49</td>\n",
       "      <td>$16.93</td>\n",
       "      <td>$22.50</td>\n",
       "      <td>$20.57</td>\n",
       "      <td>$27.84</td>\n",
       "      <td>$15.08</td>\n",
       "      <td>...</td>\n",
       "      <td>$14.88</td>\n",
       "      <td>$19.35</td>\n",
       "      <td>$13.94</td>\n",
       "      <td>$17.68</td>\n",
       "      <td>$11.87</td>\n",
       "      <td>$12.52</td>\n",
       "      <td>$10.91</td>\n",
       "      <td>$20.66</td>\n",
       "      <td>$22.02</td>\n",
       "      <td>$19.60</td>\n",
       "    </tr>\n",
       "    <tr>\n",
       "      <th>1</th>\n",
       "      <td>2017</td>\n",
       "      <td>$18.49</td>\n",
       "      <td>$25.07</td>\n",
       "      <td>$20.41</td>\n",
       "      <td>$27.70</td>\n",
       "      <td>$16.90</td>\n",
       "      <td>$22.24</td>\n",
       "      <td>$20.49</td>\n",
       "      <td>$27.16</td>\n",
       "      <td>$15.31</td>\n",
       "      <td>...</td>\n",
       "      <td>$14.78</td>\n",
       "      <td>$18.72</td>\n",
       "      <td>$13.52</td>\n",
       "      <td>$17.63</td>\n",
       "      <td>$11.58</td>\n",
       "      <td>$12.21</td>\n",
       "      <td>$10.77</td>\n",
       "      <td>$20.66</td>\n",
       "      <td>$22.27</td>\n",
       "      <td>$19.42</td>\n",
       "    </tr>\n",
       "    <tr>\n",
       "      <th>2</th>\n",
       "      <td>2016</td>\n",
       "      <td>$18.33</td>\n",
       "      <td>$24.89</td>\n",
       "      <td>$20.12</td>\n",
       "      <td>$27.62</td>\n",
       "      <td>$16.69</td>\n",
       "      <td>$21.95</td>\n",
       "      <td>$20.22</td>\n",
       "      <td>$26.86</td>\n",
       "      <td>$15.58</td>\n",
       "      <td>...</td>\n",
       "      <td>$14.70</td>\n",
       "      <td>$18.76</td>\n",
       "      <td>$13.49</td>\n",
       "      <td>$17.32</td>\n",
       "      <td>$11.34</td>\n",
       "      <td>$11.83</td>\n",
       "      <td>$10.67</td>\n",
       "      <td>$19.65</td>\n",
       "      <td>$21.42</td>\n",
       "      <td>$18.33</td>\n",
       "    </tr>\n",
       "  </tbody>\n",
       "</table>\n",
       "<p>3 rows × 31 columns</p>\n",
       "</div>"
      ],
      "text/plain": [
       "   Date  Median Average Men Median Men Average Women Median Women Average  \\\n",
       "0  2018  $18.80  $25.60     $20.10      $28.49       $16.93        $22.50   \n",
       "1  2017  $18.49  $25.07     $20.41      $27.70       $16.90        $22.24   \n",
       "2  2016  $18.33  $24.89     $20.12      $27.62       $16.69        $21.95   \n",
       "\n",
       "  White Median White Average Black Median  ... Black Women Median  \\\n",
       "0       $20.57        $27.84       $15.08  ...             $14.88   \n",
       "1       $20.49        $27.16       $15.31  ...             $14.78   \n",
       "2       $20.22        $26.86       $15.58  ...             $14.70   \n",
       "\n",
       "  Black Women Average Hispanic Women Median Hispanic Women Average  \\\n",
       "0              $19.35                $13.94                 $17.68   \n",
       "1              $18.72                $13.52                 $17.63   \n",
       "2              $18.76                $13.49                 $17.32   \n",
       "\n",
       "  Recent high-school graduate Men Recent high-school graduate  \\\n",
       "0                      $11.87                          $12.52   \n",
       "1                      $11.58                          $12.21   \n",
       "2                      $11.34                          $11.83   \n",
       "\n",
       "  Women Recent high-school graduate Recent college graduate  \\\n",
       "0                            $10.91                  $20.66   \n",
       "1                            $10.77                  $20.66   \n",
       "2                            $10.67                  $19.65   \n",
       "\n",
       "  Men Recent college graduate Women Recent college graduate  \n",
       "0                      $22.02                        $19.60  \n",
       "1                      $22.27                        $19.42  \n",
       "2                      $21.42                        $18.33  \n",
       "\n",
       "[3 rows x 31 columns]"
      ]
     },
     "execution_count": 2,
     "metadata": {},
     "output_type": "execute_result"
    }
   ],
   "source": [
    "wages = pd.read_csv('../data/EPI Data Library - Medianaverage hourly wages.csv')\n",
    "print(wages.shape)\n",
    "wages.head(3)"
   ]
  },
  {
   "cell_type": "code",
   "execution_count": 3,
   "metadata": {},
   "outputs": [
    {
     "data": {
      "text/plain": [
       "Index(['Date', 'Median', 'Average', 'Men Median', 'Men Average',\n",
       "       'Women Median', 'Women Average', 'White Median', 'White Average',\n",
       "       'Black Median', 'Black Average', 'Hispanic Median', 'Hispanic Average',\n",
       "       'White Men Median', 'White Men Average', 'Black Men Median',\n",
       "       'Black Men Average', 'Hispanic Men Median', 'Hispanic Men Average',\n",
       "       'White Women Median', 'White Women Average', 'Black Women Median',\n",
       "       'Black Women Average', 'Hispanic Women Median',\n",
       "       'Hispanic Women Average', 'Recent high-school graduate',\n",
       "       'Men Recent high-school graduate', 'Women Recent high-school graduate',\n",
       "       'Recent college graduate', 'Men Recent college graduate',\n",
       "       'Women Recent college graduate'],\n",
       "      dtype='object')"
      ]
     },
     "execution_count": 3,
     "metadata": {},
     "output_type": "execute_result"
    }
   ],
   "source": [
    "wages.columns"
   ]
  },
  {
   "cell_type": "markdown",
   "metadata": {},
   "source": [
    "#### Keeping just the columns that contain median values along with the year"
   ]
  },
  {
   "cell_type": "code",
   "execution_count": 4,
   "metadata": {},
   "outputs": [],
   "source": [
    "median_cols = [col for col in wages.columns if col[-6:] == 'Median']\n",
    "median_cols.append('Date')"
   ]
  },
  {
   "cell_type": "code",
   "execution_count": 5,
   "metadata": {},
   "outputs": [
    {
     "data": {
      "text/html": [
       "<div>\n",
       "<style scoped>\n",
       "    .dataframe tbody tr th:only-of-type {\n",
       "        vertical-align: middle;\n",
       "    }\n",
       "\n",
       "    .dataframe tbody tr th {\n",
       "        vertical-align: top;\n",
       "    }\n",
       "\n",
       "    .dataframe thead th {\n",
       "        text-align: right;\n",
       "    }\n",
       "</style>\n",
       "<table border=\"1\" class=\"dataframe\">\n",
       "  <thead>\n",
       "    <tr style=\"text-align: right;\">\n",
       "      <th></th>\n",
       "      <th>Median</th>\n",
       "      <th>Men Median</th>\n",
       "      <th>Women Median</th>\n",
       "      <th>White Median</th>\n",
       "      <th>Black Median</th>\n",
       "      <th>Hispanic Median</th>\n",
       "      <th>White Men Median</th>\n",
       "      <th>Black Men Median</th>\n",
       "      <th>Hispanic Men Median</th>\n",
       "      <th>White Women Median</th>\n",
       "      <th>Black Women Median</th>\n",
       "      <th>Hispanic Women Median</th>\n",
       "      <th>Date</th>\n",
       "    </tr>\n",
       "  </thead>\n",
       "  <tbody>\n",
       "    <tr>\n",
       "      <th>0</th>\n",
       "      <td>$18.80</td>\n",
       "      <td>$20.10</td>\n",
       "      <td>$16.93</td>\n",
       "      <td>$20.57</td>\n",
       "      <td>$15.08</td>\n",
       "      <td>$15.04</td>\n",
       "      <td>$22.99</td>\n",
       "      <td>$16.01</td>\n",
       "      <td>$16.10</td>\n",
       "      <td>$18.67</td>\n",
       "      <td>$14.88</td>\n",
       "      <td>$13.94</td>\n",
       "      <td>2018</td>\n",
       "    </tr>\n",
       "    <tr>\n",
       "      <th>1</th>\n",
       "      <td>$18.49</td>\n",
       "      <td>$20.41</td>\n",
       "      <td>$16.90</td>\n",
       "      <td>$20.49</td>\n",
       "      <td>$15.31</td>\n",
       "      <td>$15.27</td>\n",
       "      <td>$22.62</td>\n",
       "      <td>$15.57</td>\n",
       "      <td>$15.83</td>\n",
       "      <td>$18.44</td>\n",
       "      <td>$14.78</td>\n",
       "      <td>$13.52</td>\n",
       "      <td>2017</td>\n",
       "    </tr>\n",
       "    <tr>\n",
       "      <th>2</th>\n",
       "      <td>$18.33</td>\n",
       "      <td>$20.12</td>\n",
       "      <td>$16.69</td>\n",
       "      <td>$20.22</td>\n",
       "      <td>$15.58</td>\n",
       "      <td>$14.72</td>\n",
       "      <td>$22.61</td>\n",
       "      <td>$15.81</td>\n",
       "      <td>$15.70</td>\n",
       "      <td>$18.14</td>\n",
       "      <td>$14.70</td>\n",
       "      <td>$13.49</td>\n",
       "      <td>2016</td>\n",
       "    </tr>\n",
       "  </tbody>\n",
       "</table>\n",
       "</div>"
      ],
      "text/plain": [
       "   Median Men Median Women Median White Median Black Median Hispanic Median  \\\n",
       "0  $18.80     $20.10       $16.93       $20.57       $15.08          $15.04   \n",
       "1  $18.49     $20.41       $16.90       $20.49       $15.31          $15.27   \n",
       "2  $18.33     $20.12       $16.69       $20.22       $15.58          $14.72   \n",
       "\n",
       "  White Men Median Black Men Median Hispanic Men Median White Women Median  \\\n",
       "0           $22.99           $16.01              $16.10             $18.67   \n",
       "1           $22.62           $15.57              $15.83             $18.44   \n",
       "2           $22.61           $15.81              $15.70             $18.14   \n",
       "\n",
       "  Black Women Median Hispanic Women Median  Date  \n",
       "0             $14.88                $13.94  2018  \n",
       "1             $14.78                $13.52  2017  \n",
       "2             $14.70                $13.49  2016  "
      ]
     },
     "execution_count": 5,
     "metadata": {},
     "output_type": "execute_result"
    }
   ],
   "source": [
    "median_wages = wages[median_cols]\n",
    "median_wages.head(3)"
   ]
  },
  {
   "cell_type": "markdown",
   "metadata": {},
   "source": [
    "#### Since we'll be looking at the change from 1979 to 2018, we only need those rows"
   ]
  },
  {
   "cell_type": "code",
   "execution_count": 6,
   "metadata": {},
   "outputs": [
    {
     "data": {
      "text/html": [
       "<div>\n",
       "<style scoped>\n",
       "    .dataframe tbody tr th:only-of-type {\n",
       "        vertical-align: middle;\n",
       "    }\n",
       "\n",
       "    .dataframe tbody tr th {\n",
       "        vertical-align: top;\n",
       "    }\n",
       "\n",
       "    .dataframe thead th {\n",
       "        text-align: right;\n",
       "    }\n",
       "</style>\n",
       "<table border=\"1\" class=\"dataframe\">\n",
       "  <thead>\n",
       "    <tr style=\"text-align: right;\">\n",
       "      <th></th>\n",
       "      <th>Median</th>\n",
       "      <th>Men Median</th>\n",
       "      <th>Women Median</th>\n",
       "      <th>White Median</th>\n",
       "      <th>Black Median</th>\n",
       "      <th>Hispanic Median</th>\n",
       "      <th>White Men Median</th>\n",
       "      <th>Black Men Median</th>\n",
       "      <th>Hispanic Men Median</th>\n",
       "      <th>White Women Median</th>\n",
       "      <th>Black Women Median</th>\n",
       "      <th>Hispanic Women Median</th>\n",
       "      <th>Date</th>\n",
       "    </tr>\n",
       "  </thead>\n",
       "  <tbody>\n",
       "    <tr>\n",
       "      <th>0</th>\n",
       "      <td>$18.80</td>\n",
       "      <td>$20.10</td>\n",
       "      <td>$16.93</td>\n",
       "      <td>$20.57</td>\n",
       "      <td>$15.08</td>\n",
       "      <td>$15.04</td>\n",
       "      <td>$22.99</td>\n",
       "      <td>$16.01</td>\n",
       "      <td>$16.10</td>\n",
       "      <td>$18.67</td>\n",
       "      <td>$14.88</td>\n",
       "      <td>$13.94</td>\n",
       "      <td>2018</td>\n",
       "    </tr>\n",
       "    <tr>\n",
       "      <th>39</th>\n",
       "      <td>$16.49</td>\n",
       "      <td>$20.70</td>\n",
       "      <td>$13.11</td>\n",
       "      <td>$17.14</td>\n",
       "      <td>$14.32</td>\n",
       "      <td>$14.13</td>\n",
       "      <td>$21.89</td>\n",
       "      <td>$16.43</td>\n",
       "      <td>$16.16</td>\n",
       "      <td>$13.28</td>\n",
       "      <td>$12.41</td>\n",
       "      <td>$11.61</td>\n",
       "      <td>1979</td>\n",
       "    </tr>\n",
       "  </tbody>\n",
       "</table>\n",
       "</div>"
      ],
      "text/plain": [
       "    Median Men Median Women Median White Median Black Median Hispanic Median  \\\n",
       "0   $18.80     $20.10       $16.93       $20.57       $15.08          $15.04   \n",
       "39  $16.49     $20.70       $13.11       $17.14       $14.32          $14.13   \n",
       "\n",
       "   White Men Median Black Men Median Hispanic Men Median White Women Median  \\\n",
       "0            $22.99           $16.01              $16.10             $18.67   \n",
       "39           $21.89           $16.43              $16.16             $13.28   \n",
       "\n",
       "   Black Women Median Hispanic Women Median  Date  \n",
       "0              $14.88                $13.94  2018  \n",
       "39             $12.41                $11.61  1979  "
      ]
     },
     "execution_count": 6,
     "metadata": {},
     "output_type": "execute_result"
    }
   ],
   "source": [
    "median_wages = median_wages.loc[median_wages.Date.isin([2018, 1979])]\n",
    "median_wages"
   ]
  },
  {
   "cell_type": "markdown",
   "metadata": {},
   "source": [
    "#### Melting the df to be able to calculate change and get percentiles on the change amounts"
   ]
  },
  {
   "cell_type": "code",
   "execution_count": 7,
   "metadata": {},
   "outputs": [],
   "source": [
    "melted_wages = median_wages.melt(id_vars = 'Date')"
   ]
  },
  {
   "cell_type": "code",
   "execution_count": 8,
   "metadata": {},
   "outputs": [],
   "source": [
    "melted_wages = melted_wages.iloc[2:, :]"
   ]
  },
  {
   "cell_type": "code",
   "execution_count": 9,
   "metadata": {},
   "outputs": [],
   "source": [
    "melted_wages['amount'] = melted_wages.value.str[1:].astype(float)"
   ]
  },
  {
   "cell_type": "code",
   "execution_count": 10,
   "metadata": {},
   "outputs": [],
   "source": [
    "melted_wages = melted_wages.sort_values(['variable', 'Date'])\n",
    "melted_wages['change'] = melted_wages.amount.diff()"
   ]
  },
  {
   "cell_type": "markdown",
   "metadata": {},
   "source": [
    "#### the change amount in the 1979 data are convenience garbage; we only need 2018 now"
   ]
  },
  {
   "cell_type": "code",
   "execution_count": 11,
   "metadata": {},
   "outputs": [],
   "source": [
    "wage_change = melted_wages.loc[melted_wages.Date == 2018]"
   ]
  },
  {
   "cell_type": "code",
   "execution_count": 12,
   "metadata": {},
   "outputs": [
    {
     "data": {
      "text/html": [
       "<div>\n",
       "<style scoped>\n",
       "    .dataframe tbody tr th:only-of-type {\n",
       "        vertical-align: middle;\n",
       "    }\n",
       "\n",
       "    .dataframe tbody tr th {\n",
       "        vertical-align: top;\n",
       "    }\n",
       "\n",
       "    .dataframe thead th {\n",
       "        text-align: right;\n",
       "    }\n",
       "</style>\n",
       "<table border=\"1\" class=\"dataframe\">\n",
       "  <thead>\n",
       "    <tr style=\"text-align: right;\">\n",
       "      <th></th>\n",
       "      <th>Date</th>\n",
       "      <th>variable</th>\n",
       "      <th>value</th>\n",
       "      <th>amount</th>\n",
       "      <th>change</th>\n",
       "    </tr>\n",
       "  </thead>\n",
       "  <tbody>\n",
       "    <tr>\n",
       "      <th>8</th>\n",
       "      <td>2018</td>\n",
       "      <td>Black Median</td>\n",
       "      <td>$15.08</td>\n",
       "      <td>15.08</td>\n",
       "      <td>0.76</td>\n",
       "    </tr>\n",
       "    <tr>\n",
       "      <th>14</th>\n",
       "      <td>2018</td>\n",
       "      <td>Black Men Median</td>\n",
       "      <td>$16.01</td>\n",
       "      <td>16.01</td>\n",
       "      <td>-0.42</td>\n",
       "    </tr>\n",
       "    <tr>\n",
       "      <th>20</th>\n",
       "      <td>2018</td>\n",
       "      <td>Black Women Median</td>\n",
       "      <td>$14.88</td>\n",
       "      <td>14.88</td>\n",
       "      <td>2.47</td>\n",
       "    </tr>\n",
       "    <tr>\n",
       "      <th>10</th>\n",
       "      <td>2018</td>\n",
       "      <td>Hispanic Median</td>\n",
       "      <td>$15.04</td>\n",
       "      <td>15.04</td>\n",
       "      <td>0.91</td>\n",
       "    </tr>\n",
       "    <tr>\n",
       "      <th>16</th>\n",
       "      <td>2018</td>\n",
       "      <td>Hispanic Men Median</td>\n",
       "      <td>$16.10</td>\n",
       "      <td>16.10</td>\n",
       "      <td>-0.06</td>\n",
       "    </tr>\n",
       "    <tr>\n",
       "      <th>22</th>\n",
       "      <td>2018</td>\n",
       "      <td>Hispanic Women Median</td>\n",
       "      <td>$13.94</td>\n",
       "      <td>13.94</td>\n",
       "      <td>2.33</td>\n",
       "    </tr>\n",
       "    <tr>\n",
       "      <th>2</th>\n",
       "      <td>2018</td>\n",
       "      <td>Men Median</td>\n",
       "      <td>$20.10</td>\n",
       "      <td>20.10</td>\n",
       "      <td>-0.60</td>\n",
       "    </tr>\n",
       "    <tr>\n",
       "      <th>6</th>\n",
       "      <td>2018</td>\n",
       "      <td>White Median</td>\n",
       "      <td>$20.57</td>\n",
       "      <td>20.57</td>\n",
       "      <td>3.43</td>\n",
       "    </tr>\n",
       "    <tr>\n",
       "      <th>12</th>\n",
       "      <td>2018</td>\n",
       "      <td>White Men Median</td>\n",
       "      <td>$22.99</td>\n",
       "      <td>22.99</td>\n",
       "      <td>1.10</td>\n",
       "    </tr>\n",
       "    <tr>\n",
       "      <th>18</th>\n",
       "      <td>2018</td>\n",
       "      <td>White Women Median</td>\n",
       "      <td>$18.67</td>\n",
       "      <td>18.67</td>\n",
       "      <td>5.39</td>\n",
       "    </tr>\n",
       "    <tr>\n",
       "      <th>4</th>\n",
       "      <td>2018</td>\n",
       "      <td>Women Median</td>\n",
       "      <td>$16.93</td>\n",
       "      <td>16.93</td>\n",
       "      <td>3.82</td>\n",
       "    </tr>\n",
       "  </tbody>\n",
       "</table>\n",
       "</div>"
      ],
      "text/plain": [
       "    Date               variable   value  amount  change\n",
       "8   2018           Black Median  $15.08   15.08    0.76\n",
       "14  2018       Black Men Median  $16.01   16.01   -0.42\n",
       "20  2018     Black Women Median  $14.88   14.88    2.47\n",
       "10  2018        Hispanic Median  $15.04   15.04    0.91\n",
       "16  2018    Hispanic Men Median  $16.10   16.10   -0.06\n",
       "22  2018  Hispanic Women Median  $13.94   13.94    2.33\n",
       "2   2018             Men Median  $20.10   20.10   -0.60\n",
       "6   2018           White Median  $20.57   20.57    3.43\n",
       "12  2018       White Men Median  $22.99   22.99    1.10\n",
       "18  2018     White Women Median  $18.67   18.67    5.39\n",
       "4   2018           Women Median  $16.93   16.93    3.82"
      ]
     },
     "execution_count": 12,
     "metadata": {},
     "output_type": "execute_result"
    }
   ],
   "source": [
    "wage_change"
   ]
  },
  {
   "cell_type": "markdown",
   "metadata": {},
   "source": [
    "#### Getting the percentiles in a df and adding plot-worthy description column"
   ]
  },
  {
   "cell_type": "code",
   "execution_count": 13,
   "metadata": {},
   "outputs": [],
   "source": [
    "change_percentiles = wage_change.change.quantile([.10, .20, .30, .40, .50, .60, .70, .80, .90])"
   ]
  },
  {
   "cell_type": "code",
   "execution_count": 14,
   "metadata": {},
   "outputs": [],
   "source": [
    "change_percentiles = change_percentiles.to_frame().reset_index()\n",
    "change_percentiles.columns = ['percentile', 'amount']"
   ]
  },
  {
   "cell_type": "code",
   "execution_count": 15,
   "metadata": {},
   "outputs": [],
   "source": [
    "change_percentiles.percentile = change_percentiles.percentile *100"
   ]
  },
  {
   "cell_type": "code",
   "execution_count": 16,
   "metadata": {},
   "outputs": [],
   "source": [
    "change_percentiles['text_desc'] = change_percentiles.percentile.astype(str) "
   ]
  },
  {
   "cell_type": "code",
   "execution_count": 17,
   "metadata": {},
   "outputs": [],
   "source": [
    "change_percentiles['text_desc'] = change_percentiles.text_desc.str[0:2] + 'th percentile'"
   ]
  },
  {
   "cell_type": "code",
   "execution_count": 18,
   "metadata": {},
   "outputs": [
    {
     "data": {
      "text/html": [
       "<div>\n",
       "<style scoped>\n",
       "    .dataframe tbody tr th:only-of-type {\n",
       "        vertical-align: middle;\n",
       "    }\n",
       "\n",
       "    .dataframe tbody tr th {\n",
       "        vertical-align: top;\n",
       "    }\n",
       "\n",
       "    .dataframe thead th {\n",
       "        text-align: right;\n",
       "    }\n",
       "</style>\n",
       "<table border=\"1\" class=\"dataframe\">\n",
       "  <thead>\n",
       "    <tr style=\"text-align: right;\">\n",
       "      <th></th>\n",
       "      <th>percentile</th>\n",
       "      <th>amount</th>\n",
       "      <th>text_desc</th>\n",
       "    </tr>\n",
       "  </thead>\n",
       "  <tbody>\n",
       "    <tr>\n",
       "      <th>0</th>\n",
       "      <td>10.0</td>\n",
       "      <td>-0.42</td>\n",
       "      <td>10th percentile</td>\n",
       "    </tr>\n",
       "    <tr>\n",
       "      <th>1</th>\n",
       "      <td>20.0</td>\n",
       "      <td>-0.06</td>\n",
       "      <td>20th percentile</td>\n",
       "    </tr>\n",
       "    <tr>\n",
       "      <th>2</th>\n",
       "      <td>30.0</td>\n",
       "      <td>0.76</td>\n",
       "      <td>30th percentile</td>\n",
       "    </tr>\n",
       "    <tr>\n",
       "      <th>3</th>\n",
       "      <td>40.0</td>\n",
       "      <td>0.91</td>\n",
       "      <td>40th percentile</td>\n",
       "    </tr>\n",
       "    <tr>\n",
       "      <th>4</th>\n",
       "      <td>50.0</td>\n",
       "      <td>1.10</td>\n",
       "      <td>50th percentile</td>\n",
       "    </tr>\n",
       "    <tr>\n",
       "      <th>5</th>\n",
       "      <td>60.0</td>\n",
       "      <td>2.33</td>\n",
       "      <td>60th percentile</td>\n",
       "    </tr>\n",
       "    <tr>\n",
       "      <th>6</th>\n",
       "      <td>70.0</td>\n",
       "      <td>2.47</td>\n",
       "      <td>70th percentile</td>\n",
       "    </tr>\n",
       "    <tr>\n",
       "      <th>7</th>\n",
       "      <td>80.0</td>\n",
       "      <td>3.43</td>\n",
       "      <td>80th percentile</td>\n",
       "    </tr>\n",
       "    <tr>\n",
       "      <th>8</th>\n",
       "      <td>90.0</td>\n",
       "      <td>3.82</td>\n",
       "      <td>90th percentile</td>\n",
       "    </tr>\n",
       "  </tbody>\n",
       "</table>\n",
       "</div>"
      ],
      "text/plain": [
       "   percentile  amount        text_desc\n",
       "0        10.0   -0.42  10th percentile\n",
       "1        20.0   -0.06  20th percentile\n",
       "2        30.0    0.76  30th percentile\n",
       "3        40.0    0.91  40th percentile\n",
       "4        50.0    1.10  50th percentile\n",
       "5        60.0    2.33  60th percentile\n",
       "6        70.0    2.47  70th percentile\n",
       "7        80.0    3.43  80th percentile\n",
       "8        90.0    3.82  90th percentile"
      ]
     },
     "execution_count": 18,
     "metadata": {},
     "output_type": "execute_result"
    }
   ],
   "source": [
    "change_percentiles"
   ]
  },
  {
   "cell_type": "code",
   "execution_count": 22,
   "metadata": {
    "scrolled": false
   },
   "outputs": [
    {
     "data": {
      "image/png": "[encoded data removed]",
      "text/plain": [
       "<Figure size 720x432 with 1 Axes>"
      ]
     },
     "metadata": {},
     "output_type": "display_data"
    }
   ],
   "source": [
    "fig, ax = plt.subplots(figsize = (10, 6))\n",
    "\n",
    "colors = np.where(change_percentiles.amount > 0, 'darkgreen', 'darkgray')\n",
    "change_bars = ax.bar(change_percentiles.text_desc, change_percentiles.amount, color = colors)\n",
    "plt.axhline(y=0, linewidth = 2, color = 'black')\n",
    "plt.yticks([0, 1, 2, 3, 4], ['$0.00', '$1.00', '$2.00', '$3.00', '$4.00'])\n",
    "plt.xticks(rotation = 90)\n",
    "\n",
    "def autolabel(bars):\n",
    "    \"\"\"Attach a text label above each bar in *rects*, displaying its height.\"\"\"\n",
    "    for bar in bars:\n",
    "        height = bar.get_height()\n",
    "        if height > 0:\n",
    "            ax.annotate('${}'.format(round(height, 3)),\n",
    "                        xy=(bar.get_x() + bar.get_width() / 2, height),\n",
    "                        xytext=(0, 3),  # 3 points vertical offset\n",
    "                        textcoords=\"offset points\",\n",
    "                        ha='center', va='bottom')\n",
    "        else:\n",
    "            ax.annotate('$-{}'.format(abs(round(height, 2))),\n",
    "                        xy=(bar.get_x() + bar.get_width() / 2, height),\n",
    "                        xytext=(0, -3),  # 3 points vertical offset\n",
    "                        textcoords=\"offset points\",\n",
    "                        ha='center', va='top')\n",
    "        \n",
    "autolabel(change_bars)\n",
    "plt.tight_layout()\n",
    "plt.title('Hourly wage growth 1979-2018')\n",
    "plt.savefig('hourly_wage_growth.png');\n",
    " \n",
    "    "
   ]
  },
  {
   "cell_type": "code",
   "execution_count": null,
   "metadata": {
    "collapsed": true
   },
   "outputs": [],
   "source": []
  }
 ],
 "metadata": {
  "kernelspec": {
   "display_name": "Python 3",
   "language": "python",
   "name": "python3"
  },
  "language_info": {
   "codemirror_mode": {
    "name": "ipython",
    "version": 3
   },
   "file_extension": ".py",
   "mimetype": "text/x-python",
   "name": "python",
   "nbconvert_exporter": "python",
   "pygments_lexer": "ipython3",
   "version": "3.6.7"
  }
 },
 "nbformat": 4,
 "nbformat_minor": 2
}
